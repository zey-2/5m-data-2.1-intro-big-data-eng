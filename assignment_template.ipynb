{
 "cells": [
  {
   "cell_type": "markdown",
   "id": "2c36ac4b",
   "metadata": {},
   "source": [
    "# Assignment\n",
    "\n",
    "## Brief\n",
    "\n",
    "Write the Python codes for the following questions.\n",
    "\n",
    "## Instructions\n",
    "\n",
    "Paste the answer as Python in the answer code section below each question."
   ]
  },
  {
   "cell_type": "code",
   "execution_count": null,
   "id": "2b0ab1db",
   "metadata": {},
   "outputs": [],
   "source": [
    "import pymongo\n",
    "client = pymongo.MongoClient(\"mongodb+srv://<DB-USERNAME>:<DB-PASSWORD>@<CLUSTER-NAME>.mongodb.net/test?retryWrites=true&w=majority\")"
   ]
  },
  {
   "cell_type": "markdown",
   "id": "27aa3fac",
   "metadata": {},
   "source": [
    "### Question 1\n",
    "\n",
    "Question: From the `movies` collection, return the documents with the `plot` that starts with \"war\" in ascending order of released date, print only title, plot and released fields. Limit the result to 5.\n",
    "\n",
    "Answer:"
   ]
  },
  {
   "cell_type": "code",
   "execution_count": null,
   "id": "42b1e517",
   "metadata": {},
   "outputs": [],
   "source": [
    "# Your code for Question 1 here"
   ]
  },
  {
   "cell_type": "markdown",
   "id": "76f23c5e",
   "metadata": {},
   "source": [
    "### Question 2\n",
    "\n",
    "Question: Group by `rated` and count the number of movies in each.\n",
    "\n",
    "Answer:"
   ]
  },
  {
   "cell_type": "code",
   "execution_count": null,
   "id": "2fb05d5a",
   "metadata": {},
   "outputs": [],
   "source": [
    "# Your code for Question 2 here"
   ]
  },
  {
   "cell_type": "markdown",
   "id": "be4a4b6a",
   "metadata": {},
   "source": [
    "### Question 3\n",
    "\n",
    "Question: Count the number of movies with 3 comments or more.\n",
    "\n",
    "Answer:"
   ]
  },
  {
   "cell_type": "code",
   "execution_count": null,
   "id": "d373aefe",
   "metadata": {},
   "outputs": [],
   "source": [
    "# Your code for Question 3 here"
   ]
  },
  {
   "cell_type": "markdown",
   "id": "74d19f4a",
   "metadata": {},
   "source": [
    "## Submission\n",
    "\n",
    "- Submit the URL of the GitHub Repository that contains your work to NTU black board.\n",
    "- Should you reference the work of your classmate(s) or online resources, give them credit by adding either the name of your classmate or URL."
   ]
  }
 ],
 "metadata": {
  "language_info": {
   "name": "python"
  }
 },
 "nbformat": 4,
 "nbformat_minor": 5
}
